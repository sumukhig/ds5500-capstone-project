{
  "nbformat": 4,
  "nbformat_minor": 0,
  "metadata": {
    "colab": {
      "provenance": [],
      "authorship_tag": "ABX9TyNUiMuP7EgHv4cX0a+Jm2KR",
      "include_colab_link": true
    },
    "kernelspec": {
      "name": "python3",
      "display_name": "Python 3"
    },
    "language_info": {
      "name": "python"
    }
  },
  "cells": [
    {
      "cell_type": "markdown",
      "metadata": {
        "id": "view-in-github",
        "colab_type": "text"
      },
      "source": [
        "<a href=\"https://colab.research.google.com/github/sumukhig/ds5500-capstone-project/blob/main/src/notebooks/recognize_symbols.ipynb\" target=\"_parent\"><img src=\"https://colab.research.google.com/assets/colab-badge.svg\" alt=\"Open In Colab\"/></a>"
      ]
    },
    {
      "cell_type": "code",
      "execution_count": null,
      "metadata": {
        "colab": {
          "base_uri": "https://localhost:8080/"
        },
        "id": "6ZPr8_iASggh",
        "outputId": "eb73a9b8-62b5-4a2b-8921-6a67e85900f6"
      },
      "outputs": [
        {
          "output_type": "stream",
          "name": "stdout",
          "text": [
            "Collecting emnist\n",
            "  Downloading emnist-0.0-py3-none-any.whl (7.3 kB)\n",
            "Requirement already satisfied: numpy in /usr/local/lib/python3.10/dist-packages (from emnist) (1.25.2)\n",
            "Requirement already satisfied: requests in /usr/local/lib/python3.10/dist-packages (from emnist) (2.31.0)\n",
            "Requirement already satisfied: tqdm in /usr/local/lib/python3.10/dist-packages (from emnist) (4.66.2)\n",
            "Requirement already satisfied: charset-normalizer<4,>=2 in /usr/local/lib/python3.10/dist-packages (from requests->emnist) (3.3.2)\n",
            "Requirement already satisfied: idna<4,>=2.5 in /usr/local/lib/python3.10/dist-packages (from requests->emnist) (3.6)\n",
            "Requirement already satisfied: urllib3<3,>=1.21.1 in /usr/local/lib/python3.10/dist-packages (from requests->emnist) (2.0.7)\n",
            "Requirement already satisfied: certifi>=2017.4.17 in /usr/local/lib/python3.10/dist-packages (from requests->emnist) (2024.2.2)\n",
            "Installing collected packages: emnist\n",
            "Successfully installed emnist-0.0\n"
          ]
        }
      ],
      "source": [
        "!pip install emnist"
      ]
    },
    {
      "cell_type": "code",
      "source": [
        "from emnist import extract_training_samples, extract_test_samples, inspect\n",
        "import numpy as np\n",
        "import pandas as pd\n",
        "import glob\n",
        "import tensorflow as tf\n",
        "from matplotlib import pyplot as plt\n",
        "from tensorflow.keras import layers\n",
        "from sklearn.metrics import confusion_matrix, ConfusionMatrixDisplay\n",
        "from sklearn.model_selection import StratifiedKFold\n",
        "from sklearn.model_selection import RandomizedSearchCV, GridSearchCV\n",
        "import cv2\n",
        "\n",
        "import timeit\n",
        "import time"
      ],
      "metadata": {
        "id": "2kfVvsDOSnWX"
      },
      "execution_count": null,
      "outputs": []
    },
    {
      "cell_type": "code",
      "source": [
        "from google.colab import drive\n",
        "drive.mount('/content/drive')"
      ],
      "metadata": {
        "colab": {
          "base_uri": "https://localhost:8080/"
        },
        "id": "aFPUKnDJi1Zx",
        "outputId": "7db168a8-f141-47cd-9770-ad267571d27b"
      },
      "execution_count": null,
      "outputs": [
        {
          "output_type": "stream",
          "name": "stdout",
          "text": [
            "Mounted at /content/drive\n"
          ]
        }
      ]
    },
    {
      "cell_type": "code",
      "source": [
        "!unzip -o -q /content/drive/MyDrive/DS5500/datasets/cls_dataset.zip"
      ],
      "metadata": {
        "id": "AmfPJwOhjL6D"
      },
      "execution_count": null,
      "outputs": []
    },
    {
      "cell_type": "code",
      "source": [
        "!mkdir /content/hasyv2"
      ],
      "metadata": {
        "id": "7HpY57lfmEqs"
      },
      "execution_count": null,
      "outputs": []
    },
    {
      "cell_type": "code",
      "source": [
        "!unzip -o -q /content/drive/MyDrive/DS5500/datasets/hasyv2.zip -d /content/hasyv2"
      ],
      "metadata": {
        "id": "myAPNP5GhFtU"
      },
      "execution_count": null,
      "outputs": []
    },
    {
      "cell_type": "code",
      "source": [
        "!cp /content/drive/MyDrive/DS5500/datasets/class_mapping.txt /content"
      ],
      "metadata": {
        "id": "l_85fuPEnF41"
      },
      "execution_count": null,
      "outputs": []
    },
    {
      "cell_type": "code",
      "source": [
        "x_train_emnist, y_train_emnist = extract_training_samples(\"balanced\")\n",
        "x_test_emnist, y_test_emnist = extract_test_samples(\"balanced\")"
      ],
      "metadata": {
        "colab": {
          "base_uri": "https://localhost:8080/"
        },
        "id": "WGzylkZ_S2HP",
        "outputId": "20ee4276-698f-4232-ce75-1b68fc87956e"
      },
      "execution_count": null,
      "outputs": [
        {
          "output_type": "stream",
          "name": "stderr",
          "text": [
            "Downloading emnist.zip: 536MB [00:06, 92.1MB/s]\n"
          ]
        }
      ]
    },
    {
      "cell_type": "code",
      "source": [
        "emnist_class_labels = {\n",
        "    0: '0', 1: '1', 2: '2', 3: '3', 4: '4', 5: '5', 6: '6', 7: '7', 8: '8', 9: '9',\n",
        "    10: 'A', 11: 'B', 12: 'C', 13: 'D', 14: 'E', 15: 'F', 16: 'G', 17: 'H', 18: 'I', 19: 'J',\n",
        "    20: 'K', 21: 'L', 22: 'M', 23: 'N', 24: 'O', 25: 'P', 26: 'Q', 27: 'R', 28: 'S', 29: 'T',\n",
        "    30: 'U', 31: 'V', 32: 'W', 33: 'X', 34: 'Y', 35: 'Z', 36: 'a', 37: 'b', 38: 'd', 39: 'e',\n",
        "    40: 'f', 41: 'g', 42: 'h', 43: 'n', 44: 'q', 45: 'r', 46: 't'\n",
        "}"
      ],
      "metadata": {
        "id": "b0Xjgzx5N0KU"
      },
      "execution_count": null,
      "outputs": []
    },
    {
      "cell_type": "code",
      "source": [
        "offhme_data_path = './cls_dataset'"
      ],
      "metadata": {
        "id": "CWj1OD4ljjpR"
      },
      "execution_count": null,
      "outputs": []
    },
    {
      "cell_type": "code",
      "source": [
        "class_map = {}\n",
        "with open('./class_mapping.txt', 'r') as f:\n",
        "  map = f.readlines()\n",
        "\n",
        "  for line in map:\n",
        "    key = line.split(':')[0]\n",
        "    value = line.split(':')[1].strip()\n",
        "    if value == \"COMMA\":\n",
        "      value = \",\"\n",
        "    class_map[value] = int(key)\n",
        "  f.close()\n",
        "\n",
        "inverted_map = {v: k for k, v in class_map.items()}"
      ],
      "metadata": {
        "id": "ZsKJjTI4C30Q"
      },
      "execution_count": null,
      "outputs": []
    },
    {
      "cell_type": "code",
      "source": [
        "df_hasy_data = pd.read_csv('./hasyv2/hasy-data-labels.csv')"
      ],
      "metadata": {
        "id": "HMsOzpe7rrVE"
      },
      "execution_count": null,
      "outputs": []
    },
    {
      "cell_type": "code",
      "source": [
        "# Load training data\n",
        "x_train = []\n",
        "y_train = []\n",
        "num_classes = len(class_map)\n",
        "\n",
        "for folder in glob.glob(offhme_data_path + '/train/*'):\n",
        "  cls = folder.split('/')[-1]\n",
        "  if cls == \"COMMA\":\n",
        "      cls = \",\"\n",
        "  cls_vector = np.zeros(num_classes)\n",
        "  cls_vector[class_map[cls]] = 1\n",
        "\n",
        "  if cls.isalnum():\n",
        "    try:\n",
        "      cls_emnist = list(emnist_class_labels.keys())[list(emnist_class_labels.values()).index(cls)]\n",
        "    except:\n",
        "      cls_emnist = list(emnist_class_labels.keys())[list(emnist_class_labels.values()).index(cls.upper())]\n",
        "    idx_emnist = [i for i in range(len(y_train_emnist)) if y_train_emnist[i] == cls_emnist]\n",
        "    for i in idx_emnist:\n",
        "      img_emnist = x_train_emnist[i]\n",
        "      img_transformed = cv2.normalize(img_emnist, None, 0, 1.0, cv2.NORM_MINMAX, dtype=cv2.CV_32F)\n",
        "      img_transformed = cv2.resize(img_transformed, (32,32))\n",
        "      x_train.append(img_transformed)\n",
        "      y_train.append(cls_vector)\n",
        "  else:\n",
        "    for path in df_hasy_data[df_hasy_data[\"latex\"] == cls][\"path\"]:\n",
        "      img_hasy = cv2.imread('./hasyv2/' + path)\n",
        "      img_transformed = cv2.resize(img, (32,32))\n",
        "      img_transformed = cv2.cvtColor(img_transformed, cv2.COLOR_BGR2GRAY)\n",
        "      img_transformed = cv2.normalize(img_transformed, None, 0, 1.0, cv2.NORM_MINMAX, dtype=cv2.CV_32F)\n",
        "      x_train.append(img_transformed)\n",
        "      y_train.append(cls_vector)\n",
        "\n",
        "  for file in glob.glob(folder.replace('*', cls) + '/*'):\n",
        "    img = cv2.imread(file)\n",
        "    img_transformed = cv2.resize(img, (32,32))\n",
        "    img_transformed = cv2.cvtColor(img_transformed, cv2.COLOR_BGR2GRAY)\n",
        "    img_transformed = cv2.normalize(img_transformed, None, 0, 1.0, cv2.NORM_MINMAX, dtype=cv2.CV_32F)\n",
        "    x_train.append(img_transformed)\n",
        "    y_train.append(cls_vector)\n",
        "\n",
        "x_train = np.array(x_train)\n",
        "y_train = np.array(y_train)"
      ],
      "metadata": {
        "id": "9fy6cC7pjxv5"
      },
      "execution_count": null,
      "outputs": []
    },
    {
      "cell_type": "code",
      "source": [
        "# Load validation data\n",
        "x_val = []\n",
        "y_val = []\n",
        "num_classes = len(class_map)\n",
        "\n",
        "for folder in glob.glob(offhme_data_path + '/val/*'):\n",
        "  cls = folder.split('/')[-1]\n",
        "  if cls == \"COMMA\":\n",
        "    cls = \",\"\n",
        "  cls_vector = np.zeros(num_classes)\n",
        "  cls_vector[class_map[cls]] = 1\n",
        "\n",
        "  for file in glob.glob(folder.replace('*', cls) + '/*'):\n",
        "    img = cv2.imread(file)\n",
        "    img_transformed = cv2.resize(img, (32,32))\n",
        "    img_transformed = cv2.cvtColor(img_transformed, cv2.COLOR_BGR2GRAY)\n",
        "    img_transformed = cv2.normalize(img_transformed, None, 0, 1.0, cv2.NORM_MINMAX, dtype=cv2.CV_32F)\n",
        "    x_val.append(img_transformed)\n",
        "    y_val.append(cls_vector)\n",
        "\n",
        "x_val = np.array(x_val)\n",
        "y_val = np.array(y_val)"
      ],
      "metadata": {
        "id": "9utxZh06zn5x"
      },
      "execution_count": null,
      "outputs": []
    },
    {
      "cell_type": "code",
      "source": [
        "# Load test data\n",
        "x_test = []\n",
        "y_test = []\n",
        "num_classes = len(class_map)\n",
        "\n",
        "for folder in glob.glob(offhme_data_path + '/test/*'):\n",
        "  cls = folder.split('/')[-1]\n",
        "  if cls == \"COMMA\":\n",
        "    cls = \",\"\n",
        "  cls_vector = np.zeros(num_classes)\n",
        "  cls_vector[class_map[cls]] = 1\n",
        "\n",
        "  for file in glob.glob(folder.replace('*', cls) + '/*'):\n",
        "    img = cv2.imread(file)\n",
        "    img_transformed = cv2.resize(img, (32,32))\n",
        "    img_transformed = cv2.cvtColor(img_transformed, cv2.COLOR_BGR2GRAY)\n",
        "    img_transformed = cv2.normalize(img_transformed, None, 0, 1.0, cv2.NORM_MINMAX, dtype=cv2.CV_32F)\n",
        "    x_test.append(img_transformed)\n",
        "    y_test.append(cls_vector)\n",
        "\n",
        "x_test = np.array(x_test)\n",
        "y_test = np.array(y_test)"
      ],
      "metadata": {
        "id": "0ycye1vd0XsG"
      },
      "execution_count": null,
      "outputs": []
    },
    {
      "cell_type": "code",
      "source": [
        "x_train = x_train.reshape(x_train.shape[0], x_train.shape[1], x_train.shape[2], 1).astype(\"float32\")\n",
        "x_val = x_val.reshape(x_val.shape[0], x_val.shape[1], x_val.shape[2], 1).astype(\"float32\")\n",
        "x_test = x_test.reshape(x_test.shape[0], x_test.shape[1], x_test.shape[2], 1).astype(\"float32\")"
      ],
      "metadata": {
        "id": "F6Se7vShoFiH"
      },
      "execution_count": null,
      "outputs": []
    },
    {
      "cell_type": "code",
      "source": [
        "# Class distribution\n",
        "plt.figure(figsize=(15,5))\n",
        "plt.bar(np.unique([inverted_map[i] for i in np.argmax(y_train, axis=1)]), np.unique(np.argmax(y_train, axis=1), return_counts=True)[1])\n",
        "plt.xticks(rotation=90)\n",
        "plt.show()"
      ],
      "metadata": {
        "colab": {
          "base_uri": "https://localhost:8080/",
          "height": 508
        },
        "id": "r7nFLllZoLh-",
        "outputId": "7462ca75-0d0f-43c7-fef8-c91b94a77cd6"
      },
      "execution_count": null,
      "outputs": [
        {
          "output_type": "display_data",
          "data": {
            "text/plain": [
              "<Figure size 1500x500 with 1 Axes>"
            ],
            "image/png": "[encoded data removed]"
          },
          "metadata": {}
        }
      ]
    },
    {
      "cell_type": "code",
      "source": [
        "def create_lenet5_model():\n",
        "# Creating CNN model with LeNet-5 architecture\n",
        "    model = tf.keras.Sequential()\n",
        "\n",
        "    model.add(layers.Conv2D(filters=6, kernel_size=(5,5), padding='same',\n",
        "                       activation=tf.nn.relu, input_shape = (32,32,1))) # C1\n",
        "\n",
        "    model.add(layers.MaxPool2D(pool_size=(2,2), strides = (2,2))) # S2\n",
        "\n",
        "    model.add(layers.Conv2D(filters=16, kernel_size=(5,5), padding='same',\n",
        "                       activation=tf.nn.relu)) # C3\n",
        "\n",
        "    model.add(layers.MaxPool2D(pool_size=(2,2),strides=(2,2))) # S4\n",
        "\n",
        "    model.add(layers.Flatten())\n",
        "    model.add(layers.Dense(120,activation=tf.nn.relu)) # C5\n",
        "    model.add(layers.Dense(84,activation=tf.nn.relu)) # F6\n",
        "    model.add(layers.Dense(100,activation=tf.nn.softmax)) # F7\n",
        "\n",
        "    opt = tf.keras.optimizers.experimental.RMSprop()\n",
        "    model.compile(optimizer=opt, loss='categorical_crossentropy', metrics=['accuracy'])\n",
        "\n",
        "    return model"
      ],
      "metadata": {
        "id": "YnK9TrodfJZP"
      },
      "execution_count": null,
      "outputs": []
    },
    {
      "cell_type": "code",
      "source": [
        "lenet5_model = create_lenet5_model()"
      ],
      "metadata": {
        "id": "T_ZWYFfHfL15"
      },
      "execution_count": null,
      "outputs": []
    },
    {
      "cell_type": "code",
      "source": [
        "b_size = 200\n",
        "n_epochs = 10\n",
        "\n",
        "start_time = time.time()\n",
        "\n",
        "history = lenet5_model.fit(x_train, y_train, batch_size = b_size, epochs= n_epochs, verbose= 2, validation_data=(x_val, y_val))\n",
        "\n",
        "elapsed_time = time.time() - start_time\n",
        "print(\"Time consumed to fit model: \",time.strftime(\"%H:%M:%S\", time.gmtime(elapsed_time)))"
      ],
      "metadata": {
        "colab": {
          "base_uri": "https://localhost:8080/"
        },
        "id": "CruPxhPGfNtY",
        "outputId": "c29452d8-04ff-49ba-c55a-c392083a39fd"
      },
      "execution_count": null,
      "outputs": [
        {
          "output_type": "stream",
          "name": "stdout",
          "text": [
            "Epoch 1/10\n",
            "899/899 - 151s - loss: 0.9555 - accuracy: 0.7439 - val_loss: 2.5597 - val_accuracy: 0.7322 - 151s/epoch - 168ms/step\n",
            "Epoch 2/10\n",
            "899/899 - 151s - loss: 0.3735 - accuracy: 0.8797 - val_loss: 2.3053 - val_accuracy: 0.7882 - 151s/epoch - 168ms/step\n",
            "Epoch 3/10\n",
            "899/899 - 149s - loss: 0.3015 - accuracy: 0.8997 - val_loss: 2.2409 - val_accuracy: 0.7992 - 149s/epoch - 166ms/step\n",
            "Epoch 4/10\n",
            "899/899 - 150s - loss: 0.2651 - accuracy: 0.9105 - val_loss: 2.1527 - val_accuracy: 0.7733 - 150s/epoch - 167ms/step\n",
            "Epoch 5/10\n",
            "899/899 - 148s - loss: 0.2411 - accuracy: 0.9170 - val_loss: 2.1282 - val_accuracy: 0.8056 - 148s/epoch - 165ms/step\n",
            "Epoch 6/10\n",
            "899/899 - 153s - loss: 0.2240 - accuracy: 0.9212 - val_loss: 2.2511 - val_accuracy: 0.8100 - 153s/epoch - 170ms/step\n",
            "Epoch 7/10\n",
            "899/899 - 150s - loss: 0.2094 - accuracy: 0.9263 - val_loss: 2.2205 - val_accuracy: 0.8083 - 150s/epoch - 167ms/step\n",
            "Epoch 8/10\n",
            "899/899 - 148s - loss: 0.1974 - accuracy: 0.9295 - val_loss: 2.2446 - val_accuracy: 0.8139 - 148s/epoch - 164ms/step\n",
            "Epoch 9/10\n",
            "899/899 - 149s - loss: 0.1878 - accuracy: 0.9323 - val_loss: 2.2716 - val_accuracy: 0.8047 - 149s/epoch - 166ms/step\n",
            "Epoch 10/10\n",
            "899/899 - 149s - loss: 0.1790 - accuracy: 0.9351 - val_loss: 2.3890 - val_accuracy: 0.8115 - 149s/epoch - 166ms/step\n",
            "Time consumed to fit model:  00:25:26\n"
          ]
        }
      ]
    },
    {
      "cell_type": "code",
      "source": [
        "# Plot the loss and accuracy curves for training and validation\n",
        "fig, ax = plt.subplots(2,1)\n",
        "ax[0].plot(history.history['loss'], color='b', label=\"Training loss\")\n",
        "ax[0].plot(history.history['val_loss'], color='r', label=\"validation loss\")\n",
        "legend = ax[0].legend(loc='best', shadow=True)\n",
        "\n",
        "ax[1].plot(history.history['accuracy'], color='b', label=\"Training accuracy\")\n",
        "ax[1].plot(history.history['val_accuracy'], color='r',label=\"Validation accuracy\")\n",
        "legend = ax[1].legend(loc='best', shadow=True)"
      ],
      "metadata": {
        "colab": {
          "base_uri": "https://localhost:8080/",
          "height": 430
        },
        "id": "VP-tjvi6fiwz",
        "outputId": "148ef219-0e3e-484f-eec4-9ed636ea0e61"
      },
      "execution_count": null,
      "outputs": [
        {
          "output_type": "display_data",
          "data": {
            "text/plain": [
              "<Figure size 640x480 with 2 Axes>"
            ],
            "image/png": "[encoded data removed]"
          },
          "metadata": {}
        }
      ]
    },
    {
      "cell_type": "code",
      "source": [
        "y_pred = lenet5_model.predict(x_test)\n",
        "\n",
        "y_act_classes = np.argmax(y_test,axis = 1)\n",
        "y_pred_classes = np.argmax(y_pred, axis = 1)\n",
        "\n",
        "confusion_matrix(y_act_classes, y_pred_classes)"
      ],
      "metadata": {
        "colab": {
          "base_uri": "https://localhost:8080/"
        },
        "id": "JVpx0dFWiudz",
        "outputId": "7441ab27-056c-4bbb-97e2-70c3422293eb"
      },
      "execution_count": null,
      "outputs": [
        {
          "output_type": "stream",
          "name": "stdout",
          "text": [
            "409/409 [==============================] - 6s 13ms/step\n"
          ]
        },
        {
          "output_type": "execute_result",
          "data": {
            "text/plain": [
              "array([[196,   0,   1, ...,   0,   0,   0],\n",
              "       [  0, 775,   0, ...,   0,   0,   0],\n",
              "       [  1,   0, 345, ...,   0,   0,   0],\n",
              "       ...,\n",
              "       [  0,   0,   0, ...,   7,   0,   0],\n",
              "       [  0,   0,   0, ...,   0,   1,   0],\n",
              "       [  0,   0,   0, ...,   0,   0,   0]])"
            ]
          },
          "metadata": {},
          "execution_count": 116
        }
      ]
    },
    {
      "cell_type": "code",
      "source": [
        "lenet5_model.evaluate(x_test, y_test)"
      ],
      "metadata": {
        "colab": {
          "base_uri": "https://localhost:8080/"
        },
        "id": "esj3_FUwixqz",
        "outputId": "59b70eb6-a162-4ed5-b315-4af5497a5101"
      },
      "execution_count": null,
      "outputs": [
        {
          "output_type": "stream",
          "name": "stdout",
          "text": [
            "409/409 [==============================] - 6s 14ms/step - loss: 1.9289 - accuracy: 0.8420\n"
          ]
        },
        {
          "output_type": "execute_result",
          "data": {
            "text/plain": [
              "[1.9288678169250488, 0.8420004844665527]"
            ]
          },
          "metadata": {},
          "execution_count": 117
        }
      ]
    },
    {
      "cell_type": "code",
      "source": [
        "[inverted_map[y] for y in y_act_classes][0:10]"
      ],
      "metadata": {
        "colab": {
          "base_uri": "https://localhost:8080/"
        },
        "id": "-3rnaoGK7Fsj",
        "outputId": "8b198afe-5230-43b7-d8e0-fc4342ca5763"
      },
      "execution_count": null,
      "outputs": [
        {
          "output_type": "execute_result",
          "data": {
            "text/plain": [
              "['f', 'f', 'f', 'f', 'f', 'f', 'f', 'f', 'f', 'f']"
            ]
          },
          "metadata": {},
          "execution_count": 136
        }
      ]
    },
    {
      "cell_type": "code",
      "source": [
        "[inverted_map[y] for y in y_pred_classes][0:10]"
      ],
      "metadata": {
        "colab": {
          "base_uri": "https://localhost:8080/"
        },
        "id": "dMbYxwFK7RSP",
        "outputId": "da941ecf-b55d-4e1e-d2b8-ac5d6f3d0d2e"
      },
      "execution_count": null,
      "outputs": [
        {
          "output_type": "execute_result",
          "data": {
            "text/plain": [
              "['f', 'f', 'f', 'f', 'f', 'f', 'f', 'f', 'f', 'f']"
            ]
          },
          "metadata": {},
          "execution_count": 134
        }
      ]
    },
    {
      "cell_type": "code",
      "source": [
        "for i in range(9):\n",
        "    plt.subplot(int('33' + str(i+1)))\n",
        "    plt.imshow(x_test[i], cmap = plt.get_cmap('gray'))\n",
        "    plt.title(np.argmax(y_test[i]))"
      ],
      "metadata": {
        "colab": {
          "base_uri": "https://localhost:8080/",
          "height": 452
        },
        "id": "0VZZ_Qa07T4n",
        "outputId": "2baa3287-50d2-49d5-9f19-2fa53137ef69"
      },
      "execution_count": null,
      "outputs": [
        {
          "output_type": "display_data",
          "data": {
            "text/plain": [
              "<Figure size 640x480 with 9 Axes>"
            ],
            "image/png": "[encoded data removed]"
          },
          "metadata": {}
        }
      ]
    },
    {
      "cell_type": "code",
      "source": [
        "lenet5_model.save('symbol_recognition_model.h5')\n",
        "print(\"The model has been saved successfully\")"
      ],
      "metadata": {
        "colab": {
          "base_uri": "https://localhost:8080/"
        },
        "id": "U6PF6Bkr8B9m",
        "outputId": "b6224db3-8e00-4430-f64b-12a67ecfdea6"
      },
      "execution_count": null,
      "outputs": [
        {
          "output_type": "stream",
          "name": "stdout",
          "text": [
            "The model has been saved successfully\n"
          ]
        },
        {
          "output_type": "stream",
          "name": "stderr",
          "text": [
            "/usr/local/lib/python3.10/dist-packages/keras/src/engine/training.py:3103: UserWarning: You are saving your model as an HDF5 file via `model.save()`. This file format is considered legacy. We recommend using instead the native Keras format, e.g. `model.save('my_model.keras')`.\n",
            "  saving_api.save_model(\n"
          ]
        }
      ]
    },
    {
      "cell_type": "code",
      "source": [],
      "metadata": {
        "id": "roCOcCLy8N-5"
      },
      "execution_count": null,
      "outputs": []
    }
  ]
}