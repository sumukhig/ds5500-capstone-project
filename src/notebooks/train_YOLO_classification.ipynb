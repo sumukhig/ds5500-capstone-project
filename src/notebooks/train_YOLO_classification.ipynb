{
  "nbformat": 4,
  "nbformat_minor": 0,
  "metadata": {
    "colab": {
      "provenance": [],
      "authorship_tag": "ABX9TyPrt2huih0wNVoZniSRgxFa",
      "include_colab_link": true
    },
    "kernelspec": {
      "name": "python3",
      "display_name": "Python 3"
    },
    "language_info": {
      "name": "python"
    }
  },
  "cells": [
    {
      "cell_type": "markdown",
      "metadata": {
        "id": "view-in-github",
        "colab_type": "text"
      },
      "source": [
        "<a href=\"https://colab.research.google.com/github/sumukhig/ds5500-capstone-project/blob/main/src/notebooks/train_YOLO_classification.ipynb\" target=\"_parent\"><img src=\"https://colab.research.google.com/assets/colab-badge.svg\" alt=\"Open In Colab\"/></a>"
      ]
    },
    {
      "cell_type": "code",
      "execution_count": 1,
      "metadata": {
        "colab": {
          "base_uri": "https://localhost:8080/"
        },
        "id": "UcdjDWtnkWKJ",
        "outputId": "435dc689-d6ab-4194-e07d-7e7ac34d9a63"
      },
      "outputs": [
        {
          "output_type": "stream",
          "name": "stdout",
          "text": [
            "Mounted at /content/drive\n"
          ]
        }
      ],
      "source": [
        "from google.colab import drive\n",
        "drive.mount('/content/drive')"
      ]
    },
    {
      "cell_type": "code",
      "source": [
        "%cd /content"
      ],
      "metadata": {
        "colab": {
          "base_uri": "https://localhost:8080/"
        },
        "id": "HViFpV6Al_CM",
        "outputId": "9ac792bf-9627-47c5-ba58-8866355ed4f5"
      },
      "execution_count": 2,
      "outputs": [
        {
          "output_type": "stream",
          "name": "stdout",
          "text": [
            "/content\n"
          ]
        }
      ]
    },
    {
      "cell_type": "code",
      "source": [
        "!git clone https://github.com/ultralytics/yolov5  # clone\n",
        "%cd yolov5\n",
        "%pip install -qr requirements.txt comet_ml  # install\n",
        "\n",
        "import torch\n",
        "import utils\n",
        "display = utils.notebook_init()  # checks"
      ],
      "metadata": {
        "colab": {
          "base_uri": "https://localhost:8080/"
        },
        "id": "I4dZ4NZXl_ym",
        "outputId": "ee9720f1-61dc-462d-bc1d-779a0d94ac70"
      },
      "execution_count": 3,
      "outputs": [
        {
          "output_type": "stream",
          "name": "stderr",
          "text": [
            "YOLOv5 🚀 v7.0-288-gb9392361 Python-3.10.12 torch-2.1.0+cu121 CUDA:0 (Tesla T4, 15102MiB)\n"
          ]
        },
        {
          "output_type": "stream",
          "name": "stdout",
          "text": [
            "Setup complete ✅ (2 CPUs, 12.7 GB RAM, 26.4/78.2 GB disk)\n"
          ]
        }
      ]
    },
    {
      "cell_type": "code",
      "source": [
        "%cd /content/datasets/"
      ],
      "metadata": {
        "colab": {
          "base_uri": "https://localhost:8080/"
        },
        "id": "ECAhZ-mCmDV8",
        "outputId": "791db3fe-0992-4789-888d-c09be90e5624"
      },
      "execution_count": 4,
      "outputs": [
        {
          "output_type": "stream",
          "name": "stdout",
          "text": [
            "/content/datasets\n"
          ]
        }
      ]
    },
    {
      "cell_type": "code",
      "source": [
        "!unzip -q /content/drive/MyDrive/DS5500/datasets/cls_dataset.zip"
      ],
      "metadata": {
        "id": "GGIkL8CcmFLH"
      },
      "execution_count": 5,
      "outputs": []
    },
    {
      "cell_type": "code",
      "source": [
        "%cd /content/yolov5"
      ],
      "metadata": {
        "colab": {
          "base_uri": "https://localhost:8080/"
        },
        "id": "NYpjW5O_mI2F",
        "outputId": "9dbbedf4-4330-4b37-ea79-17717d58e714"
      },
      "execution_count": 6,
      "outputs": [
        {
          "output_type": "stream",
          "name": "stdout",
          "text": [
            "/content/yolov5\n"
          ]
        }
      ]
    },
    {
      "cell_type": "code",
      "source": [
        "# 1: Train YOLOv5s on classification dataset from scratch for 10 epochs\n",
        "!python classify/train.py --data /content/datasets/cls_dataset --model yolov5s-cls.pt --epoch 10"
      ],
      "metadata": {
        "colab": {
          "base_uri": "https://localhost:8080/"
        },
        "id": "d-EqQCvJmNjW",
        "outputId": "149b8b3c-60bf-48e8-bc70-743f3def7227"
      },
      "execution_count": 12,
      "outputs": [
        {
          "output_type": "stream",
          "name": "stdout",
          "text": [
            "2024-03-02 01:06:05.305690: E external/local_xla/xla/stream_executor/cuda/cuda_dnn.cc:9261] Unable to register cuDNN factory: Attempting to register factory for plugin cuDNN when one has already been registered\n",
            "2024-03-02 01:06:05.305745: E external/local_xla/xla/stream_executor/cuda/cuda_fft.cc:607] Unable to register cuFFT factory: Attempting to register factory for plugin cuFFT when one has already been registered\n",
            "2024-03-02 01:06:05.307104: E external/local_xla/xla/stream_executor/cuda/cuda_blas.cc:1515] Unable to register cuBLAS factory: Attempting to register factory for plugin cuBLAS when one has already been registered\n",
            "\u001b[34m\u001b[1mclassify/train: \u001b[0mmodel=yolov5s-cls.pt, data=/content/datasets/cls_dataset, epochs=10, batch_size=64, imgsz=224, nosave=False, cache=None, device=, workers=8, project=runs/train-cls, name=exp, exist_ok=False, pretrained=True, optimizer=Adam, lr0=0.001, decay=5e-05, label_smoothing=0.1, cutoff=None, dropout=None, verbose=False, seed=0, local_rank=-1\n",
            "\u001b[34m\u001b[1mgithub: \u001b[0mup to date with https://github.com/ultralytics/yolov5 ✅\n",
            "YOLOv5 🚀 v7.0-288-gb9392361 Python-3.10.12 torch-2.1.0+cu121 CUDA:0 (Tesla T4, 15102MiB)\n",
            "\n",
            "\u001b[34m\u001b[1mTensorBoard: \u001b[0mStart with 'tensorboard --logdir runs/train-cls', view at http://localhost:6006/\n",
            "\u001b[34m\u001b[1malbumentations: \u001b[0mRandomResizedCrop(p=1.0, height=224, width=224, scale=(0.08, 1.0), ratio=(0.75, 1.3333333333333333), interpolation=1), HorizontalFlip(p=0.5), ColorJitter(p=0.5, brightness=[0.6, 1.4], contrast=[0.6, 1.4], saturation=[0.6, 1.4], hue=[0, 0]), Normalize(p=1.0, mean=(0.485, 0.456, 0.406), std=(0.229, 0.224, 0.225), max_pixel_value=255.0), ToTensorV2(always_apply=True, p=1.0, transpose_mask=False)\n",
            "Model summary: 149 layers, 4274960 parameters, 4274960 gradients, 10.6 GFLOPs\n",
            "\u001b[34m\u001b[1moptimizer:\u001b[0m Adam(lr=0.001) with parameter groups 32 weight(decay=0.0), 33 weight(decay=5e-05), 33 bias\n",
            "Image sizes 224 train, 224 test\n",
            "Using 1 dataloader workers\n",
            "Logging results to \u001b[1mruns/train-cls/exp5\u001b[0m\n",
            "Starting yolov5s-cls.pt training on /content/datasets/cls_dataset dataset with 80 classes for 10 epochs...\n",
            "\n",
            "     Epoch   GPU_mem  train_loss   test_loss    top1_acc    top5_acc\n",
            "      1/10     1.25G        2.34        4.19       0.411       0.535: 100% 863/863 [03:14<00:00,  4.43it/s]\n",
            "      2/10      1.4G        2.03        4.13       0.381       0.535: 100% 863/863 [03:14<00:00,  4.43it/s]\n",
            "      3/10      1.4G        1.95        4.17       0.441        0.54: 100% 863/863 [03:12<00:00,  4.47it/s]\n",
            "      4/10      1.4G        1.88        4.17       0.447       0.544: 100% 863/863 [03:15<00:00,  4.41it/s]\n",
            "      5/10      1.4G        1.84        4.17        0.44       0.544: 100% 863/863 [03:12<00:00,  4.47it/s]\n",
            "      6/10      1.4G        1.81        4.17       0.458       0.542: 100% 863/863 [03:13<00:00,  4.46it/s]\n",
            "      7/10      1.4G        1.77        4.18       0.458       0.545: 100% 863/863 [03:13<00:00,  4.47it/s]\n",
            "      8/10      1.4G        1.74        4.11       0.453       0.549: 100% 863/863 [03:15<00:00,  4.42it/s]\n",
            "      9/10      1.4G        1.69        4.08       0.457       0.546: 100% 863/863 [03:12<00:00,  4.48it/s]\n",
            "     10/10      1.4G        1.66        4.07       0.456       0.545: 100% 863/863 [03:13<00:00,  4.46it/s]\n",
            "\n",
            "Training complete (0.539 hours)\n",
            "Results saved to \u001b[1mruns/train-cls/exp5\u001b[0m\n",
            "Predict:         python classify/predict.py --weights runs/train-cls/exp5/weights/best.pt --source im.jpg\n",
            "Validate:        python classify/val.py --weights runs/train-cls/exp5/weights/best.pt --data /content/datasets/cls_dataset\n",
            "Export:          python export.py --weights runs/train-cls/exp5/weights/best.pt --include onnx\n",
            "PyTorch Hub:     model = torch.hub.load('ultralytics/yolov5', 'custom', 'runs/train-cls/exp5/weights/best.pt')\n",
            "Visualize:       https://netron.app\n",
            "\n"
          ]
        }
      ]
    },
    {
      "cell_type": "code",
      "source": [
        "%cd /content"
      ],
      "metadata": {
        "colab": {
          "base_uri": "https://localhost:8080/"
        },
        "id": "nL5iAleOqqB5",
        "outputId": "a9f59a41-6db3-409b-aa76-8161f7a79b3b"
      },
      "execution_count": 13,
      "outputs": [
        {
          "output_type": "stream",
          "name": "stdout",
          "text": [
            "/content\n"
          ]
        }
      ]
    },
    {
      "cell_type": "code",
      "source": [
        "import shutil\n",
        "shutil.make_archive('/content/yolov5', 'zip', '/content/yolov5')"
      ],
      "metadata": {
        "colab": {
          "base_uri": "https://localhost:8080/",
          "height": 35
        },
        "id": "TrneuN-uyrjQ",
        "outputId": "9c3154ea-a07b-4f6c-a23b-1fa888b2ec4d"
      },
      "execution_count": 14,
      "outputs": [
        {
          "output_type": "execute_result",
          "data": {
            "text/plain": [
              "'/content/yolov5.zip'"
            ],
            "application/vnd.google.colaboratory.intrinsic+json": {
              "type": "string"
            }
          },
          "metadata": {},
          "execution_count": 14
        }
      ]
    }
  ]
}